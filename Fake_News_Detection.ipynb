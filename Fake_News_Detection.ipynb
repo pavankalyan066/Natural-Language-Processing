{
  "nbformat": 4,
  "nbformat_minor": 0,
  "metadata": {
    "colab": {
      "name": "Fake News Detection.ipynb",
      "provenance": [],
      "mount_file_id": "https://github.com/pavankalyan066/Natural-Language-Processing/blob/main/Fake_News_Detection.ipynb",
      "authorship_tag": "ABX9TyMBGvXQQFtUFhHIP+serFuy",
      "include_colab_link": true
    },
    "kernelspec": {
      "name": "python3",
      "display_name": "Python 3"
    },
    "language_info": {
      "name": "python"
    }
  },
  "cells": [
    {
      "cell_type": "markdown",
      "metadata": {
        "id": "view-in-github",
        "colab_type": "text"
      },
      "source": [
        "<a href=\"https://colab.research.google.com/github/pavankalyan066/Natural-Language-Processing/blob/main/Fake_News_Detection.ipynb\" target=\"_parent\"><img src=\"https://colab.research.google.com/assets/colab-badge.svg\" alt=\"Open In Colab\"/></a>"
      ]
    },
    {
      "cell_type": "markdown",
      "source": [
        "Import Libraries"
      ],
      "metadata": {
        "id": "t7o8iLZBNAw-"
      }
    },
    {
      "cell_type": "code",
      "source": [
        "# uncomment to install\n",
        "# !pip install tensorflow-text"
      ],
      "metadata": {
        "id": "6DPgQYggP-d6"
      },
      "execution_count": null,
      "outputs": []
    },
    {
      "cell_type": "code",
      "execution_count": 60,
      "metadata": {
        "id": "FrFguORhMwdE"
      },
      "outputs": [],
      "source": [
        "import pandas as pd\n",
        "import seaborn as sns\n",
        "import numpy as np\n",
        "import tensorflow_hub as hub\n",
        "import tensorflow as tf\n",
        "from gensim.models import Word2Vec\n",
        "from sklearn.model_selection import train_test_split\n",
        "import tensorflow_hub as hub\n",
        "import tensorflow_text as text\n",
        "from gensim.models import Doc2Vec\n",
        "from gensim.models.doc2vec import TaggedDocument"
      ]
    },
    {
      "cell_type": "code",
      "source": [
        "# to unzip the csv file\n",
        "!unzip /content/drive/MyDrive/NLP/archive.zip "
      ],
      "metadata": {
        "colab": {
          "base_uri": "https://localhost:8080/"
        },
        "id": "d7gF7tg3MyTx",
        "outputId": "d526932e-c07b-4f8e-87f8-88bc9f7817ad"
      },
      "execution_count": 2,
      "outputs": [
        {
          "output_type": "stream",
          "name": "stdout",
          "text": [
            "Archive:  /content/drive/MyDrive/NLP/archive.zip\n",
            "  inflating: news_articles.csv       \n"
          ]
        }
      ]
    },
    {
      "cell_type": "code",
      "source": [
        "data = pd.read_csv('/content/news_articles.csv')"
      ],
      "metadata": {
        "id": "hQz-_ns-MyXS"
      },
      "execution_count": 41,
      "outputs": []
    },
    {
      "cell_type": "code",
      "source": [
        "data.head(2)"
      ],
      "metadata": {
        "colab": {
          "base_uri": "https://localhost:8080/",
          "height": 402
        },
        "id": "g_9HHdh1MyaH",
        "outputId": "e58662ae-006a-4280-c03f-a05cbb1fdab4"
      },
      "execution_count": 42,
      "outputs": [
        {
          "output_type": "execute_result",
          "data": {
            "text/html": [
              "\n",
              "  <div id=\"df-9fdcc2a6-6bb6-4bd0-933d-0c9af1007625\">\n",
              "    <div class=\"colab-df-container\">\n",
              "      <div>\n",
              "<style scoped>\n",
              "    .dataframe tbody tr th:only-of-type {\n",
              "        vertical-align: middle;\n",
              "    }\n",
              "\n",
              "    .dataframe tbody tr th {\n",
              "        vertical-align: top;\n",
              "    }\n",
              "\n",
              "    .dataframe thead th {\n",
              "        text-align: right;\n",
              "    }\n",
              "</style>\n",
              "<table border=\"1\" class=\"dataframe\">\n",
              "  <thead>\n",
              "    <tr style=\"text-align: right;\">\n",
              "      <th></th>\n",
              "      <th>author</th>\n",
              "      <th>published</th>\n",
              "      <th>title</th>\n",
              "      <th>text</th>\n",
              "      <th>language</th>\n",
              "      <th>site_url</th>\n",
              "      <th>main_img_url</th>\n",
              "      <th>type</th>\n",
              "      <th>label</th>\n",
              "      <th>title_without_stopwords</th>\n",
              "      <th>text_without_stopwords</th>\n",
              "      <th>hasImage</th>\n",
              "    </tr>\n",
              "  </thead>\n",
              "  <tbody>\n",
              "    <tr>\n",
              "      <th>0</th>\n",
              "      <td>Barracuda Brigade</td>\n",
              "      <td>2016-10-26T21:41:00.000+03:00</td>\n",
              "      <td>muslims busted they stole millions in govt ben...</td>\n",
              "      <td>print they should pay all the back all the mon...</td>\n",
              "      <td>english</td>\n",
              "      <td>100percentfedup.com</td>\n",
              "      <td>http://bb4sp.com/wp-content/uploads/2016/10/Fu...</td>\n",
              "      <td>bias</td>\n",
              "      <td>Real</td>\n",
              "      <td>muslims busted stole millions govt benefits</td>\n",
              "      <td>print pay back money plus interest entire fami...</td>\n",
              "      <td>1.0</td>\n",
              "    </tr>\n",
              "    <tr>\n",
              "      <th>1</th>\n",
              "      <td>reasoning with facts</td>\n",
              "      <td>2016-10-29T08:47:11.259+03:00</td>\n",
              "      <td>re why did attorney general loretta lynch plea...</td>\n",
              "      <td>why did attorney general loretta lynch plead t...</td>\n",
              "      <td>english</td>\n",
              "      <td>100percentfedup.com</td>\n",
              "      <td>http://bb4sp.com/wp-content/uploads/2016/10/Fu...</td>\n",
              "      <td>bias</td>\n",
              "      <td>Real</td>\n",
              "      <td>attorney general loretta lynch plead fifth</td>\n",
              "      <td>attorney general loretta lynch plead fifth bar...</td>\n",
              "      <td>1.0</td>\n",
              "    </tr>\n",
              "  </tbody>\n",
              "</table>\n",
              "</div>\n",
              "      <button class=\"colab-df-convert\" onclick=\"convertToInteractive('df-9fdcc2a6-6bb6-4bd0-933d-0c9af1007625')\"\n",
              "              title=\"Convert this dataframe to an interactive table.\"\n",
              "              style=\"display:none;\">\n",
              "        \n",
              "  <svg xmlns=\"http://www.w3.org/2000/svg\" height=\"24px\"viewBox=\"0 0 24 24\"\n",
              "       width=\"24px\">\n",
              "    <path d=\"M0 0h24v24H0V0z\" fill=\"none\"/>\n",
              "    <path d=\"M18.56 5.44l.94 2.06.94-2.06 2.06-.94-2.06-.94-.94-2.06-.94 2.06-2.06.94zm-11 1L8.5 8.5l.94-2.06 2.06-.94-2.06-.94L8.5 2.5l-.94 2.06-2.06.94zm10 10l.94 2.06.94-2.06 2.06-.94-2.06-.94-.94-2.06-.94 2.06-2.06.94z\"/><path d=\"M17.41 7.96l-1.37-1.37c-.4-.4-.92-.59-1.43-.59-.52 0-1.04.2-1.43.59L10.3 9.45l-7.72 7.72c-.78.78-.78 2.05 0 2.83L4 21.41c.39.39.9.59 1.41.59.51 0 1.02-.2 1.41-.59l7.78-7.78 2.81-2.81c.8-.78.8-2.07 0-2.86zM5.41 20L4 18.59l7.72-7.72 1.47 1.35L5.41 20z\"/>\n",
              "  </svg>\n",
              "      </button>\n",
              "      \n",
              "  <style>\n",
              "    .colab-df-container {\n",
              "      display:flex;\n",
              "      flex-wrap:wrap;\n",
              "      gap: 12px;\n",
              "    }\n",
              "\n",
              "    .colab-df-convert {\n",
              "      background-color: #E8F0FE;\n",
              "      border: none;\n",
              "      border-radius: 50%;\n",
              "      cursor: pointer;\n",
              "      display: none;\n",
              "      fill: #1967D2;\n",
              "      height: 32px;\n",
              "      padding: 0 0 0 0;\n",
              "      width: 32px;\n",
              "    }\n",
              "\n",
              "    .colab-df-convert:hover {\n",
              "      background-color: #E2EBFA;\n",
              "      box-shadow: 0px 1px 2px rgba(60, 64, 67, 0.3), 0px 1px 3px 1px rgba(60, 64, 67, 0.15);\n",
              "      fill: #174EA6;\n",
              "    }\n",
              "\n",
              "    [theme=dark] .colab-df-convert {\n",
              "      background-color: #3B4455;\n",
              "      fill: #D2E3FC;\n",
              "    }\n",
              "\n",
              "    [theme=dark] .colab-df-convert:hover {\n",
              "      background-color: #434B5C;\n",
              "      box-shadow: 0px 1px 3px 1px rgba(0, 0, 0, 0.15);\n",
              "      filter: drop-shadow(0px 1px 2px rgba(0, 0, 0, 0.3));\n",
              "      fill: #FFFFFF;\n",
              "    }\n",
              "  </style>\n",
              "\n",
              "      <script>\n",
              "        const buttonEl =\n",
              "          document.querySelector('#df-9fdcc2a6-6bb6-4bd0-933d-0c9af1007625 button.colab-df-convert');\n",
              "        buttonEl.style.display =\n",
              "          google.colab.kernel.accessAllowed ? 'block' : 'none';\n",
              "\n",
              "        async function convertToInteractive(key) {\n",
              "          const element = document.querySelector('#df-9fdcc2a6-6bb6-4bd0-933d-0c9af1007625');\n",
              "          const dataTable =\n",
              "            await google.colab.kernel.invokeFunction('convertToInteractive',\n",
              "                                                     [key], {});\n",
              "          if (!dataTable) return;\n",
              "\n",
              "          const docLinkHtml = 'Like what you see? Visit the ' +\n",
              "            '<a target=\"_blank\" href=https://colab.research.google.com/notebooks/data_table.ipynb>data table notebook</a>'\n",
              "            + ' to learn more about interactive tables.';\n",
              "          element.innerHTML = '';\n",
              "          dataTable['output_type'] = 'display_data';\n",
              "          await google.colab.output.renderOutput(dataTable, element);\n",
              "          const docLink = document.createElement('div');\n",
              "          docLink.innerHTML = docLinkHtml;\n",
              "          element.appendChild(docLink);\n",
              "        }\n",
              "      </script>\n",
              "    </div>\n",
              "  </div>\n",
              "  "
            ],
            "text/plain": [
              "                 author  ... hasImage\n",
              "0     Barracuda Brigade  ...      1.0\n",
              "1  reasoning with facts  ...      1.0\n",
              "\n",
              "[2 rows x 12 columns]"
            ]
          },
          "metadata": {},
          "execution_count": 42
        }
      ]
    },
    {
      "cell_type": "code",
      "source": [
        "data['label'].value_counts()"
      ],
      "metadata": {
        "colab": {
          "base_uri": "https://localhost:8080/"
        },
        "id": "VXscrMUaMydJ",
        "outputId": "301a3936-64b9-4d30-ac8e-46bdf6461aa8"
      },
      "execution_count": 43,
      "outputs": [
        {
          "output_type": "execute_result",
          "data": {
            "text/plain": [
              "Fake    1294\n",
              "Real     801\n",
              "Name: label, dtype: int64"
            ]
          },
          "metadata": {},
          "execution_count": 43
        }
      ]
    },
    {
      "cell_type": "code",
      "source": [
        "data = data[['title', 'label']]"
      ],
      "metadata": {
        "id": "BdZivVwoMygP"
      },
      "execution_count": 44,
      "outputs": []
    },
    {
      "cell_type": "code",
      "source": [
        "data.head()"
      ],
      "metadata": {
        "colab": {
          "base_uri": "https://localhost:8080/",
          "height": 206
        },
        "id": "SMO3ukdbMyjH",
        "outputId": "fbde733c-c944-434f-af27-e9a399c3ef10"
      },
      "execution_count": 45,
      "outputs": [
        {
          "output_type": "execute_result",
          "data": {
            "text/html": [
              "\n",
              "  <div id=\"df-abd7fb4a-067c-45a0-bbea-c787829dc520\">\n",
              "    <div class=\"colab-df-container\">\n",
              "      <div>\n",
              "<style scoped>\n",
              "    .dataframe tbody tr th:only-of-type {\n",
              "        vertical-align: middle;\n",
              "    }\n",
              "\n",
              "    .dataframe tbody tr th {\n",
              "        vertical-align: top;\n",
              "    }\n",
              "\n",
              "    .dataframe thead th {\n",
              "        text-align: right;\n",
              "    }\n",
              "</style>\n",
              "<table border=\"1\" class=\"dataframe\">\n",
              "  <thead>\n",
              "    <tr style=\"text-align: right;\">\n",
              "      <th></th>\n",
              "      <th>title</th>\n",
              "      <th>label</th>\n",
              "    </tr>\n",
              "  </thead>\n",
              "  <tbody>\n",
              "    <tr>\n",
              "      <th>0</th>\n",
              "      <td>muslims busted they stole millions in govt ben...</td>\n",
              "      <td>Real</td>\n",
              "    </tr>\n",
              "    <tr>\n",
              "      <th>1</th>\n",
              "      <td>re why did attorney general loretta lynch plea...</td>\n",
              "      <td>Real</td>\n",
              "    </tr>\n",
              "    <tr>\n",
              "      <th>2</th>\n",
              "      <td>breaking weiner cooperating with fbi on hillar...</td>\n",
              "      <td>Real</td>\n",
              "    </tr>\n",
              "    <tr>\n",
              "      <th>3</th>\n",
              "      <td>pin drop speech by father of daughter kidnappe...</td>\n",
              "      <td>Real</td>\n",
              "    </tr>\n",
              "    <tr>\n",
              "      <th>4</th>\n",
              "      <td>fantastic trumps  point plan to reform healthc...</td>\n",
              "      <td>Real</td>\n",
              "    </tr>\n",
              "  </tbody>\n",
              "</table>\n",
              "</div>\n",
              "      <button class=\"colab-df-convert\" onclick=\"convertToInteractive('df-abd7fb4a-067c-45a0-bbea-c787829dc520')\"\n",
              "              title=\"Convert this dataframe to an interactive table.\"\n",
              "              style=\"display:none;\">\n",
              "        \n",
              "  <svg xmlns=\"http://www.w3.org/2000/svg\" height=\"24px\"viewBox=\"0 0 24 24\"\n",
              "       width=\"24px\">\n",
              "    <path d=\"M0 0h24v24H0V0z\" fill=\"none\"/>\n",
              "    <path d=\"M18.56 5.44l.94 2.06.94-2.06 2.06-.94-2.06-.94-.94-2.06-.94 2.06-2.06.94zm-11 1L8.5 8.5l.94-2.06 2.06-.94-2.06-.94L8.5 2.5l-.94 2.06-2.06.94zm10 10l.94 2.06.94-2.06 2.06-.94-2.06-.94-.94-2.06-.94 2.06-2.06.94z\"/><path d=\"M17.41 7.96l-1.37-1.37c-.4-.4-.92-.59-1.43-.59-.52 0-1.04.2-1.43.59L10.3 9.45l-7.72 7.72c-.78.78-.78 2.05 0 2.83L4 21.41c.39.39.9.59 1.41.59.51 0 1.02-.2 1.41-.59l7.78-7.78 2.81-2.81c.8-.78.8-2.07 0-2.86zM5.41 20L4 18.59l7.72-7.72 1.47 1.35L5.41 20z\"/>\n",
              "  </svg>\n",
              "      </button>\n",
              "      \n",
              "  <style>\n",
              "    .colab-df-container {\n",
              "      display:flex;\n",
              "      flex-wrap:wrap;\n",
              "      gap: 12px;\n",
              "    }\n",
              "\n",
              "    .colab-df-convert {\n",
              "      background-color: #E8F0FE;\n",
              "      border: none;\n",
              "      border-radius: 50%;\n",
              "      cursor: pointer;\n",
              "      display: none;\n",
              "      fill: #1967D2;\n",
              "      height: 32px;\n",
              "      padding: 0 0 0 0;\n",
              "      width: 32px;\n",
              "    }\n",
              "\n",
              "    .colab-df-convert:hover {\n",
              "      background-color: #E2EBFA;\n",
              "      box-shadow: 0px 1px 2px rgba(60, 64, 67, 0.3), 0px 1px 3px 1px rgba(60, 64, 67, 0.15);\n",
              "      fill: #174EA6;\n",
              "    }\n",
              "\n",
              "    [theme=dark] .colab-df-convert {\n",
              "      background-color: #3B4455;\n",
              "      fill: #D2E3FC;\n",
              "    }\n",
              "\n",
              "    [theme=dark] .colab-df-convert:hover {\n",
              "      background-color: #434B5C;\n",
              "      box-shadow: 0px 1px 3px 1px rgba(0, 0, 0, 0.15);\n",
              "      filter: drop-shadow(0px 1px 2px rgba(0, 0, 0, 0.3));\n",
              "      fill: #FFFFFF;\n",
              "    }\n",
              "  </style>\n",
              "\n",
              "      <script>\n",
              "        const buttonEl =\n",
              "          document.querySelector('#df-abd7fb4a-067c-45a0-bbea-c787829dc520 button.colab-df-convert');\n",
              "        buttonEl.style.display =\n",
              "          google.colab.kernel.accessAllowed ? 'block' : 'none';\n",
              "\n",
              "        async function convertToInteractive(key) {\n",
              "          const element = document.querySelector('#df-abd7fb4a-067c-45a0-bbea-c787829dc520');\n",
              "          const dataTable =\n",
              "            await google.colab.kernel.invokeFunction('convertToInteractive',\n",
              "                                                     [key], {});\n",
              "          if (!dataTable) return;\n",
              "\n",
              "          const docLinkHtml = 'Like what you see? Visit the ' +\n",
              "            '<a target=\"_blank\" href=https://colab.research.google.com/notebooks/data_table.ipynb>data table notebook</a>'\n",
              "            + ' to learn more about interactive tables.';\n",
              "          element.innerHTML = '';\n",
              "          dataTable['output_type'] = 'display_data';\n",
              "          await google.colab.output.renderOutput(dataTable, element);\n",
              "          const docLink = document.createElement('div');\n",
              "          docLink.innerHTML = docLinkHtml;\n",
              "          element.appendChild(docLink);\n",
              "        }\n",
              "      </script>\n",
              "    </div>\n",
              "  </div>\n",
              "  "
            ],
            "text/plain": [
              "                                               title label\n",
              "0  muslims busted they stole millions in govt ben...  Real\n",
              "1  re why did attorney general loretta lynch plea...  Real\n",
              "2  breaking weiner cooperating with fbi on hillar...  Real\n",
              "3  pin drop speech by father of daughter kidnappe...  Real\n",
              "4  fantastic trumps  point plan to reform healthc...  Real"
            ]
          },
          "metadata": {},
          "execution_count": 45
        }
      ]
    },
    {
      "cell_type": "code",
      "source": [
        "data['label'] = data['label'].map({'Real': 0, 'Fake':1})"
      ],
      "metadata": {
        "id": "FlAKQhxBMymC"
      },
      "execution_count": 46,
      "outputs": []
    },
    {
      "cell_type": "code",
      "source": [
        "data.tail()"
      ],
      "metadata": {
        "colab": {
          "base_uri": "https://localhost:8080/",
          "height": 206
        },
        "id": "UImJ2QtkMypG",
        "outputId": "5197d432-f2ec-412f-cb97-79c22fa73bd2"
      },
      "execution_count": 47,
      "outputs": [
        {
          "output_type": "execute_result",
          "data": {
            "text/html": [
              "\n",
              "  <div id=\"df-a7eb60a0-51fa-43fa-b6e3-4d267f966967\">\n",
              "    <div class=\"colab-df-container\">\n",
              "      <div>\n",
              "<style scoped>\n",
              "    .dataframe tbody tr th:only-of-type {\n",
              "        vertical-align: middle;\n",
              "    }\n",
              "\n",
              "    .dataframe tbody tr th {\n",
              "        vertical-align: top;\n",
              "    }\n",
              "\n",
              "    .dataframe thead th {\n",
              "        text-align: right;\n",
              "    }\n",
              "</style>\n",
              "<table border=\"1\" class=\"dataframe\">\n",
              "  <thead>\n",
              "    <tr style=\"text-align: right;\">\n",
              "      <th></th>\n",
              "      <th>title</th>\n",
              "      <th>label</th>\n",
              "    </tr>\n",
              "  </thead>\n",
              "  <tbody>\n",
              "    <tr>\n",
              "      <th>2091</th>\n",
              "      <td>teens walk free after gangrape conviction</td>\n",
              "      <td>0.0</td>\n",
              "    </tr>\n",
              "    <tr>\n",
              "      <th>2092</th>\n",
              "      <td>school named for munichmassacre mastermind</td>\n",
              "      <td>0.0</td>\n",
              "    </tr>\n",
              "    <tr>\n",
              "      <th>2093</th>\n",
              "      <td>russia unveils satan  missile</td>\n",
              "      <td>1.0</td>\n",
              "    </tr>\n",
              "    <tr>\n",
              "      <th>2094</th>\n",
              "      <td>check out hillarythemed haunted house</td>\n",
              "      <td>1.0</td>\n",
              "    </tr>\n",
              "    <tr>\n",
              "      <th>2095</th>\n",
              "      <td>cannabis aficionados develop thca crystalline ...</td>\n",
              "      <td>NaN</td>\n",
              "    </tr>\n",
              "  </tbody>\n",
              "</table>\n",
              "</div>\n",
              "      <button class=\"colab-df-convert\" onclick=\"convertToInteractive('df-a7eb60a0-51fa-43fa-b6e3-4d267f966967')\"\n",
              "              title=\"Convert this dataframe to an interactive table.\"\n",
              "              style=\"display:none;\">\n",
              "        \n",
              "  <svg xmlns=\"http://www.w3.org/2000/svg\" height=\"24px\"viewBox=\"0 0 24 24\"\n",
              "       width=\"24px\">\n",
              "    <path d=\"M0 0h24v24H0V0z\" fill=\"none\"/>\n",
              "    <path d=\"M18.56 5.44l.94 2.06.94-2.06 2.06-.94-2.06-.94-.94-2.06-.94 2.06-2.06.94zm-11 1L8.5 8.5l.94-2.06 2.06-.94-2.06-.94L8.5 2.5l-.94 2.06-2.06.94zm10 10l.94 2.06.94-2.06 2.06-.94-2.06-.94-.94-2.06-.94 2.06-2.06.94z\"/><path d=\"M17.41 7.96l-1.37-1.37c-.4-.4-.92-.59-1.43-.59-.52 0-1.04.2-1.43.59L10.3 9.45l-7.72 7.72c-.78.78-.78 2.05 0 2.83L4 21.41c.39.39.9.59 1.41.59.51 0 1.02-.2 1.41-.59l7.78-7.78 2.81-2.81c.8-.78.8-2.07 0-2.86zM5.41 20L4 18.59l7.72-7.72 1.47 1.35L5.41 20z\"/>\n",
              "  </svg>\n",
              "      </button>\n",
              "      \n",
              "  <style>\n",
              "    .colab-df-container {\n",
              "      display:flex;\n",
              "      flex-wrap:wrap;\n",
              "      gap: 12px;\n",
              "    }\n",
              "\n",
              "    .colab-df-convert {\n",
              "      background-color: #E8F0FE;\n",
              "      border: none;\n",
              "      border-radius: 50%;\n",
              "      cursor: pointer;\n",
              "      display: none;\n",
              "      fill: #1967D2;\n",
              "      height: 32px;\n",
              "      padding: 0 0 0 0;\n",
              "      width: 32px;\n",
              "    }\n",
              "\n",
              "    .colab-df-convert:hover {\n",
              "      background-color: #E2EBFA;\n",
              "      box-shadow: 0px 1px 2px rgba(60, 64, 67, 0.3), 0px 1px 3px 1px rgba(60, 64, 67, 0.15);\n",
              "      fill: #174EA6;\n",
              "    }\n",
              "\n",
              "    [theme=dark] .colab-df-convert {\n",
              "      background-color: #3B4455;\n",
              "      fill: #D2E3FC;\n",
              "    }\n",
              "\n",
              "    [theme=dark] .colab-df-convert:hover {\n",
              "      background-color: #434B5C;\n",
              "      box-shadow: 0px 1px 3px 1px rgba(0, 0, 0, 0.15);\n",
              "      filter: drop-shadow(0px 1px 2px rgba(0, 0, 0, 0.3));\n",
              "      fill: #FFFFFF;\n",
              "    }\n",
              "  </style>\n",
              "\n",
              "      <script>\n",
              "        const buttonEl =\n",
              "          document.querySelector('#df-a7eb60a0-51fa-43fa-b6e3-4d267f966967 button.colab-df-convert');\n",
              "        buttonEl.style.display =\n",
              "          google.colab.kernel.accessAllowed ? 'block' : 'none';\n",
              "\n",
              "        async function convertToInteractive(key) {\n",
              "          const element = document.querySelector('#df-a7eb60a0-51fa-43fa-b6e3-4d267f966967');\n",
              "          const dataTable =\n",
              "            await google.colab.kernel.invokeFunction('convertToInteractive',\n",
              "                                                     [key], {});\n",
              "          if (!dataTable) return;\n",
              "\n",
              "          const docLinkHtml = 'Like what you see? Visit the ' +\n",
              "            '<a target=\"_blank\" href=https://colab.research.google.com/notebooks/data_table.ipynb>data table notebook</a>'\n",
              "            + ' to learn more about interactive tables.';\n",
              "          element.innerHTML = '';\n",
              "          dataTable['output_type'] = 'display_data';\n",
              "          await google.colab.output.renderOutput(dataTable, element);\n",
              "          const docLink = document.createElement('div');\n",
              "          docLink.innerHTML = docLinkHtml;\n",
              "          element.appendChild(docLink);\n",
              "        }\n",
              "      </script>\n",
              "    </div>\n",
              "  </div>\n",
              "  "
            ],
            "text/plain": [
              "                                                  title  label\n",
              "2091          teens walk free after gangrape conviction    0.0\n",
              "2092         school named for munichmassacre mastermind    0.0\n",
              "2093                      russia unveils satan  missile    1.0\n",
              "2094              check out hillarythemed haunted house    1.0\n",
              "2095  cannabis aficionados develop thca crystalline ...    NaN"
            ]
          },
          "metadata": {},
          "execution_count": 47
        }
      ]
    },
    {
      "cell_type": "code",
      "source": [
        "data = data.dropna()"
      ],
      "metadata": {
        "id": "6_97aa3eMysY"
      },
      "execution_count": 48,
      "outputs": []
    },
    {
      "cell_type": "code",
      "source": [
        "data['label'].value_counts()"
      ],
      "metadata": {
        "colab": {
          "base_uri": "https://localhost:8080/"
        },
        "id": "QHzNsN05Myu7",
        "outputId": "a4e5e346-04c7-4bc2-f095-8e7ca18ee86f"
      },
      "execution_count": 49,
      "outputs": [
        {
          "output_type": "execute_result",
          "data": {
            "text/plain": [
              "1.0    1294\n",
              "0.0     801\n",
              "Name: label, dtype: int64"
            ]
          },
          "metadata": {},
          "execution_count": 49
        }
      ]
    },
    {
      "cell_type": "markdown",
      "source": [
        "We have a approximately 62:38 real:fake news ratio."
      ],
      "metadata": {
        "id": "NVY06wRJPp99"
      }
    },
    {
      "cell_type": "code",
      "source": [
        "# Character Length of Titles - Min, Mean, Max\n",
        "print('Mean Length', data['title'].apply(len).mean())\n",
        "print('Min Length', data['title'].apply(len).min())\n",
        "print('Max Length', data['title'].apply(len).max())\n",
        "\n",
        "x = data['title'].apply(len).plot.hist()"
      ],
      "metadata": {
        "colab": {
          "base_uri": "https://localhost:8080/",
          "height": 317
        },
        "id": "jZoA1a2BMyxw",
        "outputId": "5ae8becd-a000-48f7-d4f9-9a866af114f8"
      },
      "execution_count": 50,
      "outputs": [
        {
          "output_type": "stream",
          "name": "stdout",
          "text": [
            "Mean Length 61.22673031026253\n",
            "Min Length 2\n",
            "Max Length 443\n"
          ]
        },
        {
          "output_type": "display_data",
          "data": {
            "image/png": "[encoded data removed]",
            "text/plain": [
              "<Figure size 432x288 with 1 Axes>"
            ]
          },
          "metadata": {
            "needs_background": "light"
          }
        }
      ]
    },
    {
      "cell_type": "markdown",
      "source": [
        "We see that that the numbers of characters in each entry ranges from 2–443. There is a high concentration of samples with a length of 0–100. This can be further seen with the mean length in the dataset being approximately 61."
      ],
      "metadata": {
        "id": "FjXZwOiyQRF-"
      }
    },
    {
      "cell_type": "code",
      "source": [
        "# Do ot run the below cell for Bert Model"
      ],
      "metadata": {
        "id": "a9VNlnIfTJ4Z"
      },
      "execution_count": null,
      "outputs": []
    },
    {
      "cell_type": "code",
      "source": [
        "#Import nltk preprocessing library to convert text into a readable format\n",
        "import nltk\n",
        "from nltk.tokenize import sent_tokenize\n",
        "from nltk.stem import WordNetLemmatizer \n",
        "from nltk.corpus import stopwords\n",
        "\n",
        "nltk.download('punkt')\n",
        "nltk.download('wordnet')\n",
        "nltk.download('stopwords')\n",
        "\n",
        "#Tokenize the string (create a list -> each index is a word)\n",
        "data['title'] = data.apply(lambda row: nltk.word_tokenize(row['title']), axis=1)\n",
        "\n",
        "#Define text lemmatization model (eg: walks will be changed to walk)\n",
        "lemmatizer = WordNetLemmatizer()\n",
        "\n",
        "#Loop through title dataframe and lemmatize each word\n",
        "def lemma(data):\n",
        "  return [lemmatizer.lemmatize(w) for w in data]\n",
        "\n",
        "#Apply to dataframe\n",
        "data['title'] = data['title'].apply(lemma)\n",
        "\n",
        "#Define all stopwords in the English language (it, was, for, etc.)\n",
        "stop = stopwords.words('english')\n",
        "\n",
        "#Remove them from our dataframe\n",
        "data['title'] = data['title'].apply(lambda x: [i for i in x if i not in stop])\n",
        "\n",
        "data.head()"
      ],
      "metadata": {
        "id": "2ThoLXv-My0X",
        "outputId": "7d487fcd-e431-4e37-8b80-3e0049e25ad0",
        "colab": {
          "base_uri": "https://localhost:8080/",
          "height": 310
        }
      },
      "execution_count": 61,
      "outputs": [
        {
          "output_type": "stream",
          "name": "stdout",
          "text": [
            "[nltk_data] Downloading package punkt to /root/nltk_data...\n",
            "[nltk_data]   Package punkt is already up-to-date!\n",
            "[nltk_data] Downloading package wordnet to /root/nltk_data...\n",
            "[nltk_data]   Package wordnet is already up-to-date!\n",
            "[nltk_data] Downloading package stopwords to /root/nltk_data...\n",
            "[nltk_data]   Package stopwords is already up-to-date!\n"
          ]
        },
        {
          "output_type": "execute_result",
          "data": {
            "text/html": [
              "\n",
              "  <div id=\"df-5c86661d-e2c7-47fa-a747-e8d5083302cc\">\n",
              "    <div class=\"colab-df-container\">\n",
              "      <div>\n",
              "<style scoped>\n",
              "    .dataframe tbody tr th:only-of-type {\n",
              "        vertical-align: middle;\n",
              "    }\n",
              "\n",
              "    .dataframe tbody tr th {\n",
              "        vertical-align: top;\n",
              "    }\n",
              "\n",
              "    .dataframe thead th {\n",
              "        text-align: right;\n",
              "    }\n",
              "</style>\n",
              "<table border=\"1\" class=\"dataframe\">\n",
              "  <thead>\n",
              "    <tr style=\"text-align: right;\">\n",
              "      <th></th>\n",
              "      <th>title</th>\n",
              "      <th>label</th>\n",
              "    </tr>\n",
              "  </thead>\n",
              "  <tbody>\n",
              "    <tr>\n",
              "      <th>0</th>\n",
              "      <td>[muslim, busted, stole, million, govt, benefit]</td>\n",
              "      <td>0.0</td>\n",
              "    </tr>\n",
              "    <tr>\n",
              "      <th>1</th>\n",
              "      <td>[attorney, general, loretta, lynch, plead, fifth]</td>\n",
              "      <td>0.0</td>\n",
              "    </tr>\n",
              "    <tr>\n",
              "      <th>2</th>\n",
              "      <td>[breaking, weiner, cooperating, fbi, hillary, ...</td>\n",
              "      <td>0.0</td>\n",
              "    </tr>\n",
              "    <tr>\n",
              "      <th>3</th>\n",
              "      <td>[pin, drop, speech, father, daughter, kidnappe...</td>\n",
              "      <td>0.0</td>\n",
              "    </tr>\n",
              "    <tr>\n",
              "      <th>4</th>\n",
              "      <td>[fantastic, trump, point, plan, reform, health...</td>\n",
              "      <td>0.0</td>\n",
              "    </tr>\n",
              "  </tbody>\n",
              "</table>\n",
              "</div>\n",
              "      <button class=\"colab-df-convert\" onclick=\"convertToInteractive('df-5c86661d-e2c7-47fa-a747-e8d5083302cc')\"\n",
              "              title=\"Convert this dataframe to an interactive table.\"\n",
              "              style=\"display:none;\">\n",
              "        \n",
              "  <svg xmlns=\"http://www.w3.org/2000/svg\" height=\"24px\"viewBox=\"0 0 24 24\"\n",
              "       width=\"24px\">\n",
              "    <path d=\"M0 0h24v24H0V0z\" fill=\"none\"/>\n",
              "    <path d=\"M18.56 5.44l.94 2.06.94-2.06 2.06-.94-2.06-.94-.94-2.06-.94 2.06-2.06.94zm-11 1L8.5 8.5l.94-2.06 2.06-.94-2.06-.94L8.5 2.5l-.94 2.06-2.06.94zm10 10l.94 2.06.94-2.06 2.06-.94-2.06-.94-.94-2.06-.94 2.06-2.06.94z\"/><path d=\"M17.41 7.96l-1.37-1.37c-.4-.4-.92-.59-1.43-.59-.52 0-1.04.2-1.43.59L10.3 9.45l-7.72 7.72c-.78.78-.78 2.05 0 2.83L4 21.41c.39.39.9.59 1.41.59.51 0 1.02-.2 1.41-.59l7.78-7.78 2.81-2.81c.8-.78.8-2.07 0-2.86zM5.41 20L4 18.59l7.72-7.72 1.47 1.35L5.41 20z\"/>\n",
              "  </svg>\n",
              "      </button>\n",
              "      \n",
              "  <style>\n",
              "    .colab-df-container {\n",
              "      display:flex;\n",
              "      flex-wrap:wrap;\n",
              "      gap: 12px;\n",
              "    }\n",
              "\n",
              "    .colab-df-convert {\n",
              "      background-color: #E8F0FE;\n",
              "      border: none;\n",
              "      border-radius: 50%;\n",
              "      cursor: pointer;\n",
              "      display: none;\n",
              "      fill: #1967D2;\n",
              "      height: 32px;\n",
              "      padding: 0 0 0 0;\n",
              "      width: 32px;\n",
              "    }\n",
              "\n",
              "    .colab-df-convert:hover {\n",
              "      background-color: #E2EBFA;\n",
              "      box-shadow: 0px 1px 2px rgba(60, 64, 67, 0.3), 0px 1px 3px 1px rgba(60, 64, 67, 0.15);\n",
              "      fill: #174EA6;\n",
              "    }\n",
              "\n",
              "    [theme=dark] .colab-df-convert {\n",
              "      background-color: #3B4455;\n",
              "      fill: #D2E3FC;\n",
              "    }\n",
              "\n",
              "    [theme=dark] .colab-df-convert:hover {\n",
              "      background-color: #434B5C;\n",
              "      box-shadow: 0px 1px 3px 1px rgba(0, 0, 0, 0.15);\n",
              "      filter: drop-shadow(0px 1px 2px rgba(0, 0, 0, 0.3));\n",
              "      fill: #FFFFFF;\n",
              "    }\n",
              "  </style>\n",
              "\n",
              "      <script>\n",
              "        const buttonEl =\n",
              "          document.querySelector('#df-5c86661d-e2c7-47fa-a747-e8d5083302cc button.colab-df-convert');\n",
              "        buttonEl.style.display =\n",
              "          google.colab.kernel.accessAllowed ? 'block' : 'none';\n",
              "\n",
              "        async function convertToInteractive(key) {\n",
              "          const element = document.querySelector('#df-5c86661d-e2c7-47fa-a747-e8d5083302cc');\n",
              "          const dataTable =\n",
              "            await google.colab.kernel.invokeFunction('convertToInteractive',\n",
              "                                                     [key], {});\n",
              "          if (!dataTable) return;\n",
              "\n",
              "          const docLinkHtml = 'Like what you see? Visit the ' +\n",
              "            '<a target=\"_blank\" href=https://colab.research.google.com/notebooks/data_table.ipynb>data table notebook</a>'\n",
              "            + ' to learn more about interactive tables.';\n",
              "          element.innerHTML = '';\n",
              "          dataTable['output_type'] = 'display_data';\n",
              "          await google.colab.output.renderOutput(dataTable, element);\n",
              "          const docLink = document.createElement('div');\n",
              "          docLink.innerHTML = docLinkHtml;\n",
              "          element.appendChild(docLink);\n",
              "        }\n",
              "      </script>\n",
              "    </div>\n",
              "  </div>\n",
              "  "
            ],
            "text/plain": [
              "                                               title  label\n",
              "0    [muslim, busted, stole, million, govt, benefit]    0.0\n",
              "1  [attorney, general, loretta, lynch, plead, fifth]    0.0\n",
              "2  [breaking, weiner, cooperating, fbi, hillary, ...    0.0\n",
              "3  [pin, drop, speech, father, daughter, kidnappe...    0.0\n",
              "4  [fantastic, trump, point, plan, reform, health...    0.0"
            ]
          },
          "metadata": {},
          "execution_count": 61
        }
      ]
    },
    {
      "cell_type": "code",
      "source": [
        "#Extracting numpy arrays for the title and classes\n",
        "titles = data[\"title\"].values\n",
        "labels = data[\"label\"].values"
      ],
      "metadata": {
        "id": "DOq8YX8lN3aV"
      },
      "execution_count": 62,
      "outputs": []
    },
    {
      "cell_type": "code",
      "source": [
        "\n",
        "#Split data into training and testing dataset\n",
        "title_train, title_test, y_train, y_test = train_test_split(titles, labels, \n",
        "                                                            test_size=0.3, \n",
        "                                                            random_state=1000)"
      ],
      "metadata": {
        "id": "9IxaE1z9My3F"
      },
      "execution_count": 63,
      "outputs": []
    },
    {
      "cell_type": "code",
      "source": [
        "embed = hub.load(\"https://tfhub.dev/google/Wiki-words-250/2\")\n",
        "\n",
        "#Convert each series of words to a word2vec embedding\n",
        "indiv = []\n",
        "for i in title_train:\n",
        "  temp = np.array(embed(i))\n",
        " \n",
        "  indiv.append(temp)\n",
        "\n",
        "#Accounts for different length of words\n",
        "indiv = tf.keras.preprocessing.sequence.pad_sequences(indiv,dtype='float')\n",
        "indiv.shape"
      ],
      "metadata": {
        "id": "9vP2_l30N9QB",
        "outputId": "6322dc23-5ab2-404d-e03a-40fa163cf87a",
        "colab": {
          "base_uri": "https://localhost:8080/"
        }
      },
      "execution_count": 20,
      "outputs": [
        {
          "output_type": "execute_result",
          "data": {
            "text/plain": [
              "(1466, 46, 250)"
            ]
          },
          "metadata": {},
          "execution_count": 20
        }
      ]
    },
    {
      "cell_type": "markdown",
      "source": [
        "Hence, there are 1466 samples in the training data, the maximum length is 46 words (the ones with less are padded), and each word has 250 features."
      ],
      "metadata": {
        "id": "ZJW7kb0LOjRe"
      }
    },
    {
      "cell_type": "code",
      "source": [
        "test = []\n",
        "\n",
        "for i in title_test:\n",
        "  temp = np.array(embed(i))\n",
        "  test.append(temp)\n",
        "\n",
        "#Accounts for the different length of words in test data\n",
        "test = tf.keras.preprocessing.sequence.pad_sequences(test, dtype='float')"
      ],
      "metadata": {
        "id": "Jj2dUX91Ooc4"
      },
      "execution_count": 21,
      "outputs": []
    },
    {
      "cell_type": "markdown",
      "source": [
        "- 1 LSTM layer with 50 units\n",
        "- 2 Dense layers (one with 20 neurons, the second with 5) with a ReLU activation function\n",
        "- 1 Dense output layer with a sigmoid activation function\n"
      ],
      "metadata": {
        "id": "Vr6uDZdaO1eq"
      }
    },
    {
      "cell_type": "code",
      "source": [
        "#Sequential model has a 50 cell LSTM layer before Dense layers\n",
        "model = tf.keras.models.Sequential()\n",
        "\n",
        "\n",
        "model.add(tf.keras.layers.LSTM(50))\n",
        "model.add(tf.keras.layers.Dense(20,activation='relu'))\n",
        "model.add(tf.keras.layers.Dense(5,activation='relu'))\n",
        "\n",
        "model.add(tf.keras.layers.Dense(1,activation='sigmoid'))\n",
        "\n",
        "#Compile model with binary_crossentropy loss, Adam optimizer, and accuracy metrics\n",
        "model.compile(optimizer=tf.keras.optimizers.Adam(learning_rate = 1e-4),\\\n",
        "              loss=\"binary_crossentropy\", metrics=['accuracy'])\n",
        "\n",
        "#Train model on 10 epochs\n",
        "model.fit(indiv, y_train,validation_data=[test,y_test], epochs=20)"
      ],
      "metadata": {
        "id": "FOkpG7zwOoaI",
        "outputId": "dcbea3a4-f9ca-49f1-dc80-588f69836283",
        "colab": {
          "base_uri": "https://localhost:8080/"
        }
      },
      "execution_count": 23,
      "outputs": [
        {
          "output_type": "stream",
          "name": "stdout",
          "text": [
            "Epoch 1/20\n",
            "46/46 [==============================] - 5s 52ms/step - loss: 0.6929 - accuracy: 0.5321 - val_loss: 0.6907 - val_accuracy: 0.5739\n",
            "Epoch 2/20\n",
            "46/46 [==============================] - 1s 31ms/step - loss: 0.6861 - accuracy: 0.6139 - val_loss: 0.6843 - val_accuracy: 0.6041\n",
            "Epoch 3/20\n",
            "46/46 [==============================] - 1s 30ms/step - loss: 0.6766 - accuracy: 0.6201 - val_loss: 0.6745 - val_accuracy: 0.6121\n",
            "Epoch 4/20\n",
            "46/46 [==============================] - 1s 31ms/step - loss: 0.6636 - accuracy: 0.6201 - val_loss: 0.6636 - val_accuracy: 0.6121\n",
            "Epoch 5/20\n",
            "46/46 [==============================] - 1s 31ms/step - loss: 0.6546 - accuracy: 0.6201 - val_loss: 0.6603 - val_accuracy: 0.6121\n",
            "Epoch 6/20\n",
            "46/46 [==============================] - 1s 31ms/step - loss: 0.6494 - accuracy: 0.6201 - val_loss: 0.6560 - val_accuracy: 0.6121\n",
            "Epoch 7/20\n",
            "46/46 [==============================] - 1s 31ms/step - loss: 0.6449 - accuracy: 0.6201 - val_loss: 0.6545 - val_accuracy: 0.6153\n",
            "Epoch 8/20\n",
            "46/46 [==============================] - 1s 32ms/step - loss: 0.6390 - accuracy: 0.6207 - val_loss: 0.6511 - val_accuracy: 0.6121\n",
            "Epoch 9/20\n",
            "46/46 [==============================] - 1s 32ms/step - loss: 0.6323 - accuracy: 0.6228 - val_loss: 0.6530 - val_accuracy: 0.5962\n",
            "Epoch 10/20\n",
            "46/46 [==============================] - 1s 32ms/step - loss: 0.6270 - accuracy: 0.6228 - val_loss: 0.6486 - val_accuracy: 0.6010\n",
            "Epoch 11/20\n",
            "46/46 [==============================] - 1s 31ms/step - loss: 0.6216 - accuracy: 0.6296 - val_loss: 0.6489 - val_accuracy: 0.6025\n",
            "Epoch 12/20\n",
            "46/46 [==============================] - 1s 31ms/step - loss: 0.6164 - accuracy: 0.6255 - val_loss: 0.6482 - val_accuracy: 0.5946\n",
            "Epoch 13/20\n",
            "46/46 [==============================] - 1s 31ms/step - loss: 0.6105 - accuracy: 0.6357 - val_loss: 0.6478 - val_accuracy: 0.5962\n",
            "Epoch 14/20\n",
            "46/46 [==============================] - 1s 32ms/step - loss: 0.6066 - accuracy: 0.6473 - val_loss: 0.6465 - val_accuracy: 0.5882\n",
            "Epoch 15/20\n",
            "46/46 [==============================] - 1s 32ms/step - loss: 0.6073 - accuracy: 0.6446 - val_loss: 0.6469 - val_accuracy: 0.5978\n",
            "Epoch 16/20\n",
            "46/46 [==============================] - 1s 31ms/step - loss: 0.5992 - accuracy: 0.6569 - val_loss: 0.6471 - val_accuracy: 0.5946\n",
            "Epoch 17/20\n",
            "46/46 [==============================] - 1s 31ms/step - loss: 0.5990 - accuracy: 0.6617 - val_loss: 0.6490 - val_accuracy: 0.5994\n",
            "Epoch 18/20\n",
            "46/46 [==============================] - 1s 31ms/step - loss: 0.5956 - accuracy: 0.6651 - val_loss: 0.6484 - val_accuracy: 0.6010\n",
            "Epoch 19/20\n",
            "46/46 [==============================] - 1s 31ms/step - loss: 0.5904 - accuracy: 0.6664 - val_loss: 0.6478 - val_accuracy: 0.5898\n",
            "Epoch 20/20\n",
            "46/46 [==============================] - 1s 32ms/step - loss: 0.5903 - accuracy: 0.6603 - val_loss: 0.6538 - val_accuracy: 0.5946\n"
          ]
        },
        {
          "output_type": "execute_result",
          "data": {
            "text/plain": [
              "<keras.callbacks.History at 0x7fa1d8072ed0>"
            ]
          },
          "metadata": {},
          "execution_count": 23
        }
      ]
    },
    {
      "cell_type": "markdown",
      "source": [
        "# Dense Layered Model"
      ],
      "metadata": {
        "id": "XB3a5fT0UI-3"
      }
    },
    {
      "cell_type": "code",
      "source": [
        "#Create a word2vec model\n",
        "vec = Word2Vec(min_count=1)\n",
        "\n",
        "#Build its vocabulary by looping through the title dataset\n",
        "vec.build_vocab([x for x in data['title'].values])\n",
        "\n",
        "#Print the vocabulary size\n",
        "print(len(vec.wv.vocab))\n",
        "\n",
        "#Train our word2vec model on all titles for 5 epochs\n",
        "vec.train([x for x in data['title'].values],total_examples=vec.corpus_count,epochs=5)"
      ],
      "metadata": {
        "id": "Z-XBTwO7UIYT",
        "outputId": "e128803d-a6e1-49b7-d266-4c461aba1a1c",
        "colab": {
          "base_uri": "https://localhost:8080/"
        }
      },
      "execution_count": 64,
      "outputs": [
        {
          "output_type": "stream",
          "name": "stderr",
          "text": [
            "WARNING:gensim.models.base_any2vec:under 10 jobs per worker: consider setting a smaller `batch_words' for smoother alpha decay\n"
          ]
        },
        {
          "output_type": "stream",
          "name": "stdout",
          "text": [
            "5308\n"
          ]
        },
        {
          "output_type": "execute_result",
          "data": {
            "text/plain": [
              "(71133, 75985)"
            ]
          },
          "metadata": {},
          "execution_count": 64
        }
      ]
    },
    {
      "cell_type": "code",
      "source": [
        "#Add a tag which denotes a new document everytime a new dataset is seen\n",
        "#Example: [[word1,word2,word3,word4],document0]\n",
        "tags = [TaggedDocument(doc, [i]) for i, doc in enumerate(title_train)]\n",
        "\n",
        "#Define the Doc2Vec model\n",
        "doc = Doc2Vec(tags,vector_size=100,min_count=1,epochs=5)\n",
        "#Build the vocabulary based on the tag structures defined above\n",
        "#doc.build_vocab(tags)\n",
        "#Train the doc2vec model\n",
        "doc.train(tags, total_examples=doc.corpus_count,epochs=doc.epochs)"
      ],
      "metadata": {
        "id": "HOE1-v_4UIVc",
        "outputId": "3cc956c7-25b3-44f7-b638-b0d142f857df",
        "colab": {
          "base_uri": "https://localhost:8080/"
        }
      },
      "execution_count": 65,
      "outputs": [
        {
          "output_type": "stream",
          "name": "stderr",
          "text": [
            "WARNING:gensim.models.base_any2vec:under 10 jobs per worker: consider setting a smaller `batch_words' for smoother alpha decay\n",
            "WARNING:gensim.models.base_any2vec:Effective 'alpha' higher than previous training cycles\n",
            "WARNING:gensim.models.base_any2vec:under 10 jobs per worker: consider setting a smaller `batch_words' for smoother alpha decay\n"
          ]
        }
      ]
    },
    {
      "cell_type": "code",
      "source": [
        "print(len(doc.wv.vocab))"
      ],
      "metadata": {
        "id": "rbkRWjjDUISt",
        "outputId": "326ba7c1-87a8-4a0f-e39f-ad0bda8fe507",
        "colab": {
          "base_uri": "https://localhost:8080/"
        }
      },
      "execution_count": 66,
      "outputs": [
        {
          "output_type": "stream",
          "name": "stdout",
          "text": [
            "4290\n"
          ]
        }
      ]
    },
    {
      "cell_type": "code",
      "source": [
        "train_vectors = [doc.infer_vector(i) for i in title_train]"
      ],
      "metadata": {
        "id": "yCsTNi_aUiwr"
      },
      "execution_count": 67,
      "outputs": []
    },
    {
      "cell_type": "code",
      "source": [
        "test_vectors = [doc.infer_vector(i) for i in title_test]"
      ],
      "metadata": {
        "id": "zrHKAoS-UIQJ"
      },
      "execution_count": 68,
      "outputs": []
    },
    {
      "cell_type": "code",
      "source": [
        "train_vectors = np.array(train_vectors)\n",
        "test_vectors = np.array(test_vectors)"
      ],
      "metadata": {
        "id": "go9K5z33UINc"
      },
      "execution_count": 69,
      "outputs": []
    },
    {
      "cell_type": "code",
      "source": [
        "train_vectors.shape"
      ],
      "metadata": {
        "id": "wT4wRFd7UIK-",
        "outputId": "3043d57e-5266-466c-cd78-5ee48d919acf",
        "colab": {
          "base_uri": "https://localhost:8080/"
        }
      },
      "execution_count": 70,
      "outputs": [
        {
          "output_type": "execute_result",
          "data": {
            "text/plain": [
              "(1466, 100)"
            ]
          },
          "metadata": {},
          "execution_count": 70
        }
      ]
    },
    {
      "cell_type": "code",
      "source": [
        "#Sequential model\n",
        "model = tf.keras.Sequential()\n",
        "\n",
        "#Dense layer - 128 units -input shape is for the 100 vector length, relu activation\n",
        "model.add(tf.keras.layers.Dense(128,input_shape=[100],activation='relu'))\n",
        "#'Turn off' half the neurons (reduce overfitting - model will not memorize data and will understand patterns)\n",
        "model.add(tf.keras.layers.Dropout(0.5))\n",
        "#Dense layer - 64 units, relu activation\n",
        "model.add(tf.keras.layers.Dense(64,activation='relu'))\n",
        "#Dense layer - 32 units, relu activation\n",
        "model.add(tf.keras.layers.Dense(32,activation='relu'))\n",
        "#Dense layer - 16 units, relu activation\n",
        "model.add(tf.keras.layers.Dense(16,activation='relu'))\n",
        "#Dense layer - 1 units, sigmoid activation\n",
        "#Binary problem - probability of 1 class - derived with sigmoid\n",
        "model.add(tf.keras.layers.Dense(1,activation='sigmoid'))\n",
        "\n",
        "#Train on Adam optimizer with 1e-4 learning rate, loss of binary crossentropy, accuracy tracked\n",
        "model.compile(optimizer=tf.keras.optimizers.Adam(learning_rate = 1e-4),loss=\"binary_crossentropy\", metrics=['accuracy'])\n",
        "\n",
        "#Train on training set, test on testing set, for 5 epochs\n",
        "model.fit(train_vectors,y_train,validation_data=[test_vectors,y_test], epochs= 15)\n",
        "\n",
        "#Show model architecture\n",
        "model.summary()"
      ],
      "metadata": {
        "id": "6memouHQUIH0",
        "outputId": "0be68e4d-a816-432e-8d20-a21c5b4ba31a",
        "colab": {
          "base_uri": "https://localhost:8080/"
        }
      },
      "execution_count": 71,
      "outputs": [
        {
          "output_type": "stream",
          "name": "stdout",
          "text": [
            "Epoch 1/15\n",
            "46/46 [==============================] - 1s 8ms/step - loss: 0.6904 - accuracy: 0.6201 - val_loss: 0.6880 - val_accuracy: 0.6121\n",
            "Epoch 2/15\n",
            "46/46 [==============================] - 0s 4ms/step - loss: 0.6837 - accuracy: 0.6201 - val_loss: 0.6810 - val_accuracy: 0.6121\n",
            "Epoch 3/15\n",
            "46/46 [==============================] - 0s 4ms/step - loss: 0.6761 - accuracy: 0.6201 - val_loss: 0.6740 - val_accuracy: 0.6121\n",
            "Epoch 4/15\n",
            "46/46 [==============================] - 0s 4ms/step - loss: 0.6687 - accuracy: 0.6201 - val_loss: 0.6697 - val_accuracy: 0.6121\n",
            "Epoch 5/15\n",
            "46/46 [==============================] - 0s 4ms/step - loss: 0.6653 - accuracy: 0.6201 - val_loss: 0.6682 - val_accuracy: 0.6121\n",
            "Epoch 6/15\n",
            "46/46 [==============================] - 0s 4ms/step - loss: 0.6639 - accuracy: 0.6201 - val_loss: 0.6681 - val_accuracy: 0.6121\n",
            "Epoch 7/15\n",
            "46/46 [==============================] - 0s 4ms/step - loss: 0.6637 - accuracy: 0.6201 - val_loss: 0.6682 - val_accuracy: 0.6121\n",
            "Epoch 8/15\n",
            "46/46 [==============================] - 0s 4ms/step - loss: 0.6636 - accuracy: 0.6201 - val_loss: 0.6682 - val_accuracy: 0.6121\n",
            "Epoch 9/15\n",
            "46/46 [==============================] - 0s 4ms/step - loss: 0.6629 - accuracy: 0.6201 - val_loss: 0.6683 - val_accuracy: 0.6121\n",
            "Epoch 10/15\n",
            "46/46 [==============================] - 0s 4ms/step - loss: 0.6637 - accuracy: 0.6201 - val_loss: 0.6682 - val_accuracy: 0.6121\n",
            "Epoch 11/15\n",
            "46/46 [==============================] - 0s 4ms/step - loss: 0.6636 - accuracy: 0.6201 - val_loss: 0.6681 - val_accuracy: 0.6121\n",
            "Epoch 12/15\n",
            "46/46 [==============================] - 0s 3ms/step - loss: 0.6641 - accuracy: 0.6201 - val_loss: 0.6682 - val_accuracy: 0.6121\n",
            "Epoch 13/15\n",
            "46/46 [==============================] - 0s 4ms/step - loss: 0.6639 - accuracy: 0.6201 - val_loss: 0.6683 - val_accuracy: 0.6121\n",
            "Epoch 14/15\n",
            "46/46 [==============================] - 0s 3ms/step - loss: 0.6628 - accuracy: 0.6201 - val_loss: 0.6682 - val_accuracy: 0.6121\n",
            "Epoch 15/15\n",
            "46/46 [==============================] - 0s 3ms/step - loss: 0.6637 - accuracy: 0.6201 - val_loss: 0.6682 - val_accuracy: 0.6121\n",
            "Model: \"sequential_2\"\n",
            "_________________________________________________________________\n",
            " Layer (type)                Output Shape              Param #   \n",
            "=================================================================\n",
            " dense_6 (Dense)             (None, 128)               12928     \n",
            "                                                                 \n",
            " dropout (Dropout)           (None, 128)               0         \n",
            "                                                                 \n",
            " dense_7 (Dense)             (None, 64)                8256      \n",
            "                                                                 \n",
            " dense_8 (Dense)             (None, 32)                2080      \n",
            "                                                                 \n",
            " dense_9 (Dense)             (None, 16)                528       \n",
            "                                                                 \n",
            " dense_10 (Dense)            (None, 1)                 17        \n",
            "                                                                 \n",
            "=================================================================\n",
            "Total params: 23,809\n",
            "Trainable params: 23,809\n",
            "Non-trainable params: 0\n",
            "_________________________________________________________________\n"
          ]
        }
      ]
    },
    {
      "cell_type": "code",
      "source": [
        ""
      ],
      "metadata": {
        "id": "kMquWB9XUIEx"
      },
      "execution_count": null,
      "outputs": []
    },
    {
      "cell_type": "markdown",
      "source": [
        "# BERT"
      ],
      "metadata": {
        "id": "p3M2OMrqPxJL"
      }
    },
    {
      "cell_type": "code",
      "source": [
        "from sklearn.model_selection import train_test_split\n",
        "\n",
        "#Split data into training and testing dataset\n",
        "title_train, title_test, y_train, y_test = train_test_split(titles, labels, test_size=0.2,\\\n",
        "                                                            random_state=1000)"
      ],
      "metadata": {
        "id": "obR0AXbRQbBk"
      },
      "execution_count": 56,
      "outputs": []
    },
    {
      "cell_type": "code",
      "source": [
        "#Use the bert preprocesser and bert encoder from tensorflow_hub\n",
        "bert_preprocess = hub.KerasLayer(\"https://tfhub.dev/tensorflow/bert_en_uncased_preprocess/3\")\n",
        "bert_encoder = hub.KerasLayer('https://tfhub.dev/tensorflow/bert_en_uncased_L-12_H-768_A-12/4')"
      ],
      "metadata": {
        "id": "Tac3DWCDPwH2"
      },
      "execution_count": 26,
      "outputs": []
    },
    {
      "cell_type": "markdown",
      "source": [
        "- 1 Input layer: This will represent the sentence that will be passed into the model).\n",
        "- The bert_preprocess layer: Here we pass in our input to preprocess the text.\n",
        "The bert_encoder layer: Here we pass the preprocessed tokens into the BERT encoder.\n",
        "- 1 Dropout layer with a rate of 0.2. The pooled_output of the BERT encoder is passed into it (more on this below)\n",
        "- 2 Dense layers with 10 and 1 neurons respectively. The first one will use a ReLU activation function, and the second will use sigmoid."
      ],
      "metadata": {
        "id": "fzZQ0WSRQGq1"
      }
    },
    {
      "cell_type": "code",
      "source": [
        "import tensorflow as tf\n",
        "\n",
        "# Input Layers\n",
        "input_layer = tf.keras.layers.Input(shape=(), dtype=tf.string, name='news')\n",
        "\n",
        "# BERT layers\n",
        "processed = bert_preprocess(input_layer)\n",
        "output = bert_encoder(processed)\n",
        "\n",
        "# Fully Connected Layers\n",
        "layer = tf.keras.layers.Dropout(0.2, name='dropout')(output['pooled_output'])\n",
        "layer = tf.keras.layers.Dense(10,activation='relu', name='hidden')(layer)\n",
        "layer = tf.keras.layers.Dense(1,activation='sigmoid', name='output')(layer)\n",
        "\n",
        "\n",
        "model = tf.keras.Model(inputs=[input_layer],outputs=[layer])"
      ],
      "metadata": {
        "id": "d349YdtRPwFD"
      },
      "execution_count": 27,
      "outputs": []
    },
    {
      "cell_type": "code",
      "source": [
        "#Compile model on adam optimizer, binary_crossentropy loss, and accuracy metrics\n",
        "model.compile(optimizer='adam',loss='binary_crossentropy',metrics=['accuracy'])\n",
        "#Train model on 5 epochs\n",
        "model.fit(title_train, y_train, epochs= 5)\n",
        "\n",
        "#Evaluate model on test data\n",
        "model.evaluate(title_test,y_test)"
      ],
      "metadata": {
        "id": "NJsmxHpoPwCo",
        "outputId": "fac32184-8361-41a5-ff3c-bf8d811e7ae3",
        "colab": {
          "base_uri": "https://localhost:8080/"
        }
      },
      "execution_count": 59,
      "outputs": [
        {
          "output_type": "stream",
          "name": "stdout",
          "text": [
            "Epoch 1/5\n",
            "53/53 [==============================] - 730s 14s/step - loss: 0.6705 - accuracy: 0.6086\n",
            "Epoch 2/5\n",
            "53/53 [==============================] - 652s 12s/step - loss: 0.6662 - accuracy: 0.6169\n",
            "Epoch 3/5\n",
            "53/53 [==============================] - 652s 12s/step - loss: 0.6638 - accuracy: 0.6181\n",
            "Epoch 4/5\n",
            "53/53 [==============================] - 651s 12s/step - loss: 0.6612 - accuracy: 0.6187\n",
            "Epoch 5/5\n",
            "53/53 [==============================] - 651s 12s/step - loss: 0.6601 - accuracy: 0.6199\n",
            "14/14 [==============================] - 164s 12s/step - loss: 0.6625 - accuracy: 0.6134\n"
          ]
        },
        {
          "output_type": "execute_result",
          "data": {
            "text/plain": [
              "[0.662506103515625, 0.6133651733398438]"
            ]
          },
          "metadata": {},
          "execution_count": 59
        }
      ]
    },
    {
      "cell_type": "code",
      "source": [
        ""
      ],
      "metadata": {
        "id": "xybvZNXZOY6U"
      },
      "execution_count": 38,
      "outputs": []
    },
    {
      "cell_type": "code",
      "source": [
        ""
      ],
      "metadata": {
        "id": "ilfa-B2CPu6a"
      },
      "execution_count": 28,
      "outputs": []
    }
  ]
}